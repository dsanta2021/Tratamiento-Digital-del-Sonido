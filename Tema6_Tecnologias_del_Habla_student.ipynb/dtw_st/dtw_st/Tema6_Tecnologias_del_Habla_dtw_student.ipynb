{
 "cells": [
  {
   "cell_type": "markdown",
   "metadata": {},
   "source": [
    "# Tema 6 Tecnologías del Habla\n",
    "\n",
    "\n",
    "#### Rebeca Goya Esteban y Óscar Barquero Pérez\n",
    "Adaptado de: Introduction to Pattern Recognition  A MATLAB \\textregistered Approach.\n",
    "Sergios Theodoridis, Aggelos Pikrakis, Konstantinos Koutroumbas, Dionisis Cavouras.\n",
    "Elservier 2010.\n",
    "\n",
    "update: 3 de enero de 2021\n",
    "\n",
    "<a rel=\"license\" href=\"http://creativecommons.org/licenses/by-nc-sa/4.0/\"><img alt=\"Licencia de Creative Commons\" style=\"border-width:0\" src=\"https://i.creativecommons.org/l/by-nc-sa/4.0/88x31.png\" /></a><br />Este obra está bajo una <a rel=\"license\" href=\"http://creativecommons.org/licenses/by-nc-sa/4.0/\">licencia de Creative Commons Reconocimiento-NoComercial-CompartirIgual 4.0 Internacional</a>. "
   ]
  },
  {
   "cell_type": "markdown",
   "metadata": {},
   "source": [
    "### Dynamic Time Warping (DTW) para reconocimiento del habla\n",
    "\n",
    "Nos vamos a centrar en una tarea sencilla de reconocimiento del habla: *reconocimiento de palabras aisladas (RPA)*. \n",
    "Este sistema RPA consiste en un conjunto de **patrones de referencia** y una **medida de distancia**. El reconocimiento de una **palabra de test** (entrada que reconoce el sistema) se consigue encontrando el mejor ajuste entre la palabra de test y cada uno de los patrones de referencia en base a la medida de distancia considerada.\n",
    "\n",
    "Si tenemos dos secuencias se puede utilizar su distancia euclídea para cuantificar su similaridad. Si las secuencias tienen diferente longitud, una forma de poder calcular la distancia entre ellas es permitir comprensiones o extensiones locales (*warping*), este efecto se consigue construyendo el camino óptimo a través de los nodos de una rejilla. La rejilla se construye a partir de las dos secuencias en un espacio bidimensional situando una secuencia en el eje horizontal y otra en el eje vertical. Si colocamos la secuencia de referencia en el eje horizontal, las dimensiones de la rejilla son $JxI$, donde $I$ y $J$ son las longitudes de las secuencias de test y de referencia respectivamente. El tipo y el grado permitido de comprensión/expansión se determina mediante las llamadas restricciones locales. Son muy utilizadas las restricciones Sakoe-Chiba. Básicamente son restricciones para los posibles saltos entre los nodos de la rejilla. \n",
    "\n",
    "Como paso previo para comprender mejor la utilización de DTW para reconocimiento del habla vamos a trabajar con secuencias de números. \n",
    "\n",
    "\n",
    "* Sea $P = [-1,-2,0,2]$ la secuencia patrón de referencia $T = [-1,-2,-2,0,2]$ la secuencia de test. **Obtenga el camino óptimo y su distancia acumulada** adoptando las restricciones locales de Sakoe-Chiba. Utilice para ello la función *dtw* de tds_dtw_utils.py, fíjese en los parámetros de entrada y de salida. \n",
    "* Repita para $T = [-1,-2,-2,-2,-2,0,2]$\n",
    "\n",
    "Como T difiere de P únicamente en términos de repetición de un símbolo, la longitud de la repetición no afecta al distancia acumulada, sólo causa más o menos efecto de compresión en el camino. Análogamente en habla podemos tener la misma palabra pero una vez pronunciada más rápido y otra más despacio. Segmentos verticales u horizontales largos son habituales cuando se emplean las restricciones locales de Sakoe-Chiba. Para evitar que estos segmentos sean indefinidamente largos se pueden utilizar restricciones globales.\n",
    "\n",
    "* Repita para T = [-1,-2,-3,0,2,3], ¿qué diferencia hay en este caso?.\n",
    "\n",
    "\n",
    "También se pueden especificar restricciones de extremos. Para explorar la importancia de estas restricciones, dada la secuencia patrón P = [-8,-4,0,4,0,-4] y la secuencia de test T =[0,-8,-4,0,4,0,-4,0,0]:\n",
    "\n",
    "* Obtenga el camino óptimo y su distancia acumulada adoptando las restricciones locales de Sakoe-Chiba.\n",
    "\n",
    "A pesar de que P y T son prácticamente iguales, sólo difieren en los ceros al principio y al final de T la distancia acumulada no es nula. Esta es una situación común, que haya *basura* cerca de los extremos, para solucionarlo se pueden incluir restricciones de extremos que sirven para poder omitir un determinado número de símbolos al principio y al final de la secuencia de test.\n",
    "\n",
    "* Pruebe a utilizar las restricciones de extremos en el ejemplo anterior con la función *DTWSakoeEndp*, fíjese en los parámetros de entrada de la función y permita omitir hasta dos símbolos tanto al inicio como al final de la secuencia de test.\n",
    "\n",
    "Las restricciones de extremos son muy útiles en reconocimiento del habla porque las palabras de test pueden contener periodos de silencio alrededor de los extremos, mientras que los patrones de referencia almacenados en el sistema no.\n",
    "itemize"
   ]
  },
  {
   "cell_type": "code",
   "execution_count": 1,
   "metadata": {},
   "outputs": [
    {
     "data": {
      "text/plain": [
       "[<matplotlib.lines.Line2D at 0x7ff84821c040>]"
      ]
     },
     "execution_count": 1,
     "metadata": {},
     "output_type": "execute_result"
    },
    {
     "data": {
      "image/png": "[encoded data removed]",
      "text/plain": [
       "<Figure size 432x288 with 2 Axes>"
      ]
     },
     "metadata": {
      "needs_background": "light"
     },
     "output_type": "display_data"
    }
   ],
   "source": [
    "from tds_dtw_utils import *\n",
    "\n",
    "#p = np.array([-1,-2,0,2]) #completar\n",
    "p = np.array([-8,-4,0,4,0,-4]) #Ejemplo 4 y 5\n",
    "#t = np.array([-1,-2,-2,0,2]) #completar\n",
    "#t = np.array([-1,-2,-2,-2,-2,0,2]) #Segundo ejemplo\n",
    "#t = np.array([-1,-2,-3,0,2,3]) # Tercer ejemplo\n",
    "t = np.array([0,-8,-4,0,4,0,-4,0,0]) # ejemplo 4 y 5\n",
    "#Usar la funcion que corresponda en cada caso, con los parámetros adecuados\n",
    "\n",
    "#NodeCost, accumulated_cost, path, cost, matching_cost = dtw(p,t,dist = 'euclidean')\n",
    "\n",
    "NodeCost, accumulated_cost, path, cost, matching_cost = dtw_Endp(p,t,dist = 'euclidean',omit_left = 2,omit_right = 2,warp = 1) #Ejemplo 5\n",
    "\n",
    "#Las mas oscuras son las mas alejadas del camino\n",
    "#La linea es el camino total\n",
    "\n",
    "plt.figure()\n",
    "\n",
    "distance_cost_plot(accumulated_cost,path)\n",
    "path_y = [point[0] for point in path]\n",
    "path_x = [point[1] for point in path]\n",
    "plt.plot(path_x,path_y)"
   ]
  },
  {
   "cell_type": "code",
   "execution_count": 2,
   "metadata": {},
   "outputs": [
    {
     "name": "stdout",
     "output_type": "stream",
     "text": [
      "8.0\n"
     ]
    }
   ],
   "source": [
    "print(cost)#Ejemplo tres, coste 2\n",
    "#Ejemplo 4, coste 16\n",
    "#Ejemplo 5, coste 8, ya que solo quita el sobrante de la derecha"
   ]
  },
  {
   "cell_type": "code",
   "execution_count": 3,
   "metadata": {},
   "outputs": [
    {
     "name": "stdout",
     "output_type": "stream",
     "text": [
      "[[ 8.  4.  0.  4.  0.  4.]\n",
      " [ 0.  4.  8. 12.  8.  4.]\n",
      " [ 4.  0.  4.  8.  4.  0.]\n",
      " [ 8.  4.  0.  4.  0.  4.]\n",
      " [12.  8.  4.  0.  4.  8.]\n",
      " [ 8.  4.  0.  4.  0.  4.]\n",
      " [ 4.  0.  4.  8.  4.  0.]\n",
      " [ 8.  4.  0.  4.  0.  4.]\n",
      " [ 8.  4.  0.  4.  0.  4.]]\n"
     ]
    }
   ],
   "source": [
    "print(NodeCost)"
   ]
  },
  {
   "cell_type": "markdown",
   "metadata": {},
   "source": [
    "\n",
    "\n",
    "Ahora vamos explorar un sistema simple de reconocimiento de palabras aisladas, el sistema tendrá un vocabulario de 10 palabras: zero,one,two...nine. Se trata de un sistema de reconocimiento de palabras aisladas. Necesitamos por lo tanto 10 patrones de referencia uno por cada palabra que es capaz de reconocer el sistema. Los archivos .wav que vamos a utilizar como patrones de referencia, asi como las grabaciones de las palabras de test se encuentrán en la carpeta **data**. Los patrones de referencia están nombrados como zero.wav, one.wav, etc., y las palabras de test están nombradas como **upatternxy.wav**, donde **x** indica el dígito pronunciado por el locutor e **y** indica el número de repetición.\n",
    "\n",
    "* Pruebe a reproducir algunos de los patrones de referencia y algunos de los patrones de test."
   ]
  },
  {
   "cell_type": "code",
   "execution_count": 4,
   "metadata": {},
   "outputs": [
    {
     "data": {
      "text/html": [
       "\n",
       "                <audio  controls=\"controls\" >\n",
       "                    <source src=\"data:audio/wav;base64,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\" type=\"audio/wav\" />\n",
       "                    Your browser does not support the audio element.\n",
       "                </audio>\n",
       "              "
      ],
      "text/plain": [
       "<IPython.lib.display.Audio object>"
      ]
     },
     "execution_count": 4,
     "metadata": {},
     "output_type": "execute_result"
    }
   ],
   "source": [
    "import scipy.io.wavfile as wf\n",
    "import IPython.display as ipd\n",
    "\n",
    "filename = 'upattern01.wav'# probar a reproducir diferentes audios\n",
    "\n",
    "fs,y = wf.read(filename)\n",
    "ipd.Audio(y,rate=fs)"
   ]
  },
  {
   "cell_type": "markdown",
   "metadata": {},
   "source": [
    "En una primera etapa, un algoritmo de extracción de características convierte la señal de voz en una secuencia de vectores de características. Para construir este sistema utilizamos dos características: la energía localizada y la tasa de cruces por cero localizada (utilizamos sólo estas dos características por simplicidad).\n",
    "\n",
    "En la función **obtainPatterns.m** se extraen las características de los patrones de referencia. Analice esta función:\n",
    "\n",
    "\n",
    "* ¿Qué recorre el bucle for?¿qué realizan cada una de las instrucciones del bucle?.\n",
    "* ¿Cuál es el tamaño de la ventana de análisis de la señal de voz?¿por qué tiene este tamaño?."
   ]
  },
  {
   "cell_type": "code",
   "execution_count": 5,
   "metadata": {},
   "outputs": [],
   "source": [
    "def obtainPatterns():\n",
    "    \n",
    "    protoFSeq = []\n",
    "    protoNames=['zero.wav','one.wav','two.wav','three.wav','four.wav','five.wav','six.wav','seven.wav'\n",
    "                ,'eight.wav','nine.wav']\n",
    "    for fname in protoNames:\n",
    "        fs, x = wf.read(fname)\n",
    "        winlength = int(np.round(0.02*fs))\n",
    "        w = sig.boxcar(winlength)\n",
    "        winstep = winlength # moving window step. No overlap\n",
    "        e = energia2(x,w) #Estudiamos la energia\n",
    "        Zcr = zcr2(x,w) #Estudiamos los cruces a cero\n",
    "        protoFSeq.append(np.array([e,Zcr])) # el audio de  three va a tener una matriz de caracteristicas mas grande que six\n",
    "    \n",
    "    return protoFSeq\n"
   ]
  },
  {
   "cell_type": "markdown",
   "metadata": {},
   "source": [
    "* Ejecute la función: ¿Qué contiene protoFSeq?\n",
    "* ¿En cuantas tramas se ha dividido la señal correspondiente a la palabra five?  "
   ]
  },
  {
   "cell_type": "code",
   "execution_count": 6,
   "metadata": {},
   "outputs": [
    {
     "name": "stdout",
     "output_type": "stream",
     "text": [
      "[[0.00884464 0.00496068 0.00693634 0.00859507 0.01161954 0.01177709\n",
      "  0.09484706 0.38351677 0.56497021 0.83323996 0.96722299 1.\n",
      "  0.9684636  0.77654624 0.62234641 0.67684542 0.76184426 0.44535067\n",
      "  0.56210184 0.64635446 0.26715668 0.11729989 0.05919492 0.02958694\n",
      "  0.0123176  0.01930388 0.01440097 0.00473375 0.01742102 0.00739272\n",
      "  0.01843175]\n",
      " [0.1        0.159375   0.125      0.125      0.153125   0.121875\n",
      "  0.059375   0.0625     0.08125    0.090625   0.09375    0.0875\n",
      "  0.084375   0.103125   0.096875   0.109375   0.084375   0.075\n",
      "  0.090625   0.075      0.078125   0.053125   0.040625   0.06875\n",
      "  0.084375   0.075      0.0625     0.1125     0.06875    0.08125\n",
      "  0.025     ]]\n",
      "10\n"
     ]
    }
   ],
   "source": [
    "from tds_dtw_utils import *\n",
    "#import os\n",
    "#os.chdir(\"../\")\n",
    "#os.chdir(\"../data\")\n",
    "protoFSeq = obtainPatterns()\n",
    "print(protoFSeq[5])#Crea una lista con los bectores que corresponden, el primero seran los valores de la energia y el segundo seran los valores de los cruces a cero\n",
    "\n",
    "print(len(protoFSeq))\n"
   ]
  },
  {
   "cell_type": "markdown",
   "metadata": {},
   "source": [
    "Examine la función **IsoDigitRec.m**\n",
    "\n",
    "\n",
    "* Localice dónde se lee la palabra de test (la palabra a reconocer) y dónde se hace la extración de características de esta palabra.\n",
    "* Localice dónde se utiliza DTW para el reconocimiento de las palabras. ¿Qué recorre el bucle?. Introduzca los dos primeros parámetros (sustituir por a y b) cuando se llama a la función **DTWSakoeEndp** de forma que el primer parámetro sea el conjunto de vectores de características de cada uno de los patrones de referencia (será uno en cada iteración del bucle) y el segundo parámetro sea el conjunto de vectores de características de la palabra de test (este será el mismo para todas las iteraciones del blucle).  \n",
    "* Ejecute el script para una palabra de test. Una vez calculado el coste o distancia del camino óptimo respecto a cada uno de los patrones de referencia ¿cómo decide el sistema cuál es la palabra de entrada al sistema?\n",
    "* Ejecute el script para todas las palabras de test. Compruebe si los resultados son correctos."
   ]
  },
  {
   "cell_type": "code",
   "execution_count": 7,
   "metadata": {},
   "outputs": [],
   "source": [
    "def IsoDigitRec(protoFSeq, patt_to_rec = 'upattern01'):\n",
    "\n",
    "    protoNames=['zero.wav','one.wav','two.wav','three.wav','four.wav','five.wav','six.wav','seven.wav'\n",
    "                ,'eight.wav','nine.wav']\n",
    "    #Read audio test: to recognize\n",
    "    fs, test = wf.read(patt_to_rec)\n",
    "    winlength = int(np.round(0.02 * fs)) #use the same values as before\n",
    "    \n",
    "    w = sig.boxcar(winlength)\n",
    "    winstep = winlength # moving window step. No overlap\n",
    "    \n",
    "    #compute features for test audio\n",
    "    e = energia2(test,w)\n",
    "    Zcr = zcr2(test,w)\n",
    "    #Create a vector\n",
    "    Ftest=np.array([e,Zcr])\n",
    "    \n",
    "    tolerance=0.1 #tolerance for remove endpoints\n",
    "    LeftEndConstr= int(np.round(tolerance/winstep)) # left endpoint constraint\n",
    "    RightEndConstr = LeftEndConstr\n",
    "    \n",
    "    matchingcost = []\n",
    "    cost = []\n",
    "    for proto in protoFSeq:\n",
    "       \n",
    "        NodeCost, D, path, cost_a, matching_cost_a = dtw_Endp(proto.T,Ftest.T,omit_left=LeftEndConstr,\n",
    "                                                              omit_right=RightEndConstr)# Hay que sustituir a y b\n",
    "        \n",
    "        cost.append(cost_a)\n",
    "        matchingcost.append(matching_cost_a)\n",
    "        \n",
    "        \n",
    "    indexofBest = np.argmin(matchingcost);\n",
    "    print(indexofBest)      # Coste mínimo\n",
    "    print(matchingcost)     # Distancia entre cada uno de los patrones y la palabra de test\n",
    "    print('The unknown pattern has been identified as a \"%s\" \\n'%(protoNames[indexofBest]))\n"
   ]
  },
  {
   "cell_type": "code",
   "execution_count": 8,
   "metadata": {},
   "outputs": [
    {
     "name": "stdout",
     "output_type": "stream",
     "text": [
      "5\n",
      "[0.07308421467940511, 0.08626530688864438, 0.08749277728544601, 0.06882511008786116, 0.06192097992377236, 0.04615236493840744, 0.1015172867599868, 0.11296703669411257, 0.05235273323726657, 0.08413087353598572]\n",
      "The unknown pattern has been identified as a \"five.wav\" \n",
      "\n"
     ]
    }
   ],
   "source": [
    "#os.chdir(\"../\")\n",
    "#os.chdir(\"./data\")\n",
    "\n",
    "IsoDigitRec(protoFSeq, patt_to_rec = 'upattern51.wav')\n"
   ]
  },
  {
   "cell_type": "markdown",
   "metadata": {},
   "source": [
    "**Bibiliografía**\n",
    "\n",
    "Introduction to Pattern Recognition \n",
    "A MATLAB \\textregistered Approach.\n",
    "Sergios Theodoridis, Aggelos Pikrakis, Konstantinos Koutroumbas, Dionisis Cavouras.\n",
    "Elservier 2010."
   ]
  },
  {
   "cell_type": "code",
   "execution_count": null,
   "metadata": {},
   "outputs": [],
   "source": []
  }
 ],
 "metadata": {
  "kernelspec": {
   "display_name": "Python 3 (ipykernel)",
   "language": "python",
   "name": "python3"
  },
  "language_info": {
   "codemirror_mode": {
    "name": "ipython",
    "version": 3
   },
   "file_extension": ".py",
   "mimetype": "text/x-python",
   "name": "python",
   "nbconvert_exporter": "python",
   "pygments_lexer": "ipython3",
   "version": "3.10.12"
  }
 },
 "nbformat": 4,
 "nbformat_minor": 2
}
